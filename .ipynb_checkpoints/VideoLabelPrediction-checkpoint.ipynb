{
 "cells": [
  {
   "cell_type": "code",
   "execution_count": 1,
   "metadata": {},
   "outputs": [
    {
     "name": "stderr",
     "output_type": "stream",
     "text": [
      "Using TensorFlow backend.\n"
     ]
    }
   ],
   "source": [
    "from feature_extractor import get_feature_mat_from_video\n",
    "\n"
   ]
  },
  {
   "cell_type": "code",
   "execution_count": 2,
   "metadata": {},
   "outputs": [
    {
     "name": "stderr",
     "output_type": "stream",
     "text": [
      "/home/mil/watanabe/.pyenv/versions/anaconda2-4.2.0/lib/python2.7/site-packages/matplotlib/__init__.py:1405: UserWarning: \n",
      "This call to matplotlib.use() has no effect because the backend has already\n",
      "been chosen; matplotlib.use() must be called *before* pylab, matplotlib.pyplot,\n",
      "or matplotlib.backends is imported for the first time.\n",
      "\n",
      "  warnings.warn(_use_error_msg)\n"
     ]
    }
   ],
   "source": [
    "from my_pca import get_pcaed_feature\n",
    "\n"
   ]
  },
  {
   "cell_type": "code",
   "execution_count": 38,
   "metadata": {},
   "outputs": [],
   "source": [
    "from tqdm import tqdm_notebook as tqdm\n",
    "import tensorflow as tf\n",
    "import numpy as np\n",
    "\n",
    "from yt8m_utils import Dequantize\n",
    "import pprint"
   ]
  },
  {
   "cell_type": "code",
   "execution_count": 40,
   "metadata": {},
   "outputs": [],
   "source": [
    "import pandas as pd\n",
    "\n",
    "\n",
    "def print_predicted_label(feature, topn=10,  latest_checkpoint = './yt8m_model/model.ckpt-2833', id2label_csv='./label_names.csv'):\n",
    "\n",
    "    id2label_ser = pd.read_csv(id2label_csv, index_col=0)\n",
    "    id2label = id2label_ser.to_dict()['label_name']\n",
    "\n",
    "    meta_graph_location = latest_checkpoint + \".meta\"\n",
    "\n",
    "    sess = tf.InteractiveSession()\n",
    "\n",
    "    saver = tf.train.import_meta_graph(meta_graph_location, clear_devices=True)\n",
    "    saver.restore(sess, latest_checkpoint)\n",
    "\n",
    "    input_tensor = tf.get_collection(\"input_batch_raw\")[0]\n",
    "    num_frames_tensor = tf.get_collection(\"num_frames\")[0]\n",
    "    predictions_tensor = tf.get_collection(\"predictions\")[0]\n",
    "\n",
    "    # Workaround for num_epochs issue.\n",
    "    def set_up_init_ops(variables):\n",
    "        init_op_list = []\n",
    "        for variable in list(variables):\n",
    "            if \"train_input\" in variable.name:\n",
    "                init_op_list.append(tf.assign(variable, 1))\n",
    "                variables.remove(variable)\n",
    "        init_op_list.append(tf.variables_initializer(variables))\n",
    "        return init_op_list\n",
    "\n",
    "    sess.run(set_up_init_ops(tf.get_collection_ref(\n",
    "            tf.GraphKeys.LOCAL_VARIABLES)))\n",
    "    \n",
    "    \n",
    "\n",
    "    padded_feature = np.zeros([300, 1024])\n",
    "    padded_feature[:feature.shape[0], :] = Dequantize(feature)\n",
    "    video_batch_val = padded_feature[np.newaxis, :, :].astype(np.float32)\n",
    "    num_frames_batch_val = np.array([feature.shape[0]], dtype=np.int32)\n",
    "\n",
    "    predictions_val, = sess.run([predictions_tensor], feed_dict={input_tensor: video_batch_val,\n",
    "                                                                         num_frames_tensor: num_frames_batch_val})\n",
    "\n",
    "    predictions_val = predictions_val.flatten()\n",
    "\n",
    "    top_idxes = np.argsort(predictions_val)[::-1][:topn]\n",
    "\n",
    "    pprint.pprint ([(id2label[x], predictions_val[x]) for x in top_idxes])"
   ]
  },
  {
   "cell_type": "code",
   "execution_count": 41,
   "metadata": {},
   "outputs": [
    {
     "name": "stdout",
     "output_type": "stream",
     "text": [
      "INFO:tensorflow:Restoring parameters from ./yt8m_model/model.ckpt-2833\n",
      "[('Beach', 0.21415021),\n",
      " ('Food', 0.19555795),\n",
      " ('Fashion', 0.12171113),\n",
      " ('Animation', 0.08695627),\n",
      " ('Water', 0.078090079),\n",
      " ('Mobile phone', 0.076837964),\n",
      " ('Smartphone', 0.075432561),\n",
      " ('Cosmetics', 0.061876003),\n",
      " ('Vehicle', 0.042489242),\n",
      " ('Nature', 0.037279952)]\n"
     ]
    }
   ],
   "source": [
    "feature_2048_mat = get_feature_mat_from_video('gakky.webm')\n",
    "\n",
    "pca_feature = get_pcaed_feature(feature_2048_mat)\n",
    "\n",
    "print_predicted_label(pca_feature)"
   ]
  }
 ],
 "metadata": {
  "kernelspec": {
   "display_name": "Python [conda root]",
   "language": "python",
   "name": "conda-root-py"
  },
  "language_info": {
   "codemirror_mode": {
    "name": "ipython",
    "version": 2
   },
   "file_extension": ".py",
   "mimetype": "text/x-python",
   "name": "python",
   "nbconvert_exporter": "python",
   "pygments_lexer": "ipython2",
   "version": "2.7.13"
  }
 },
 "nbformat": 4,
 "nbformat_minor": 2
}
